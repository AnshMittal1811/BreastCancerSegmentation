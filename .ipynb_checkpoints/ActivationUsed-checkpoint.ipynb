{
 "cells": [
  {
   "cell_type": "code",
   "execution_count": null,
   "metadata": {},
   "outputs": [],
   "source": [
    "import numpy as np\n",
    "\n",
    "\n",
    "def identity(x):\n",
    "    ''' It returns what it recieves, f(x)=y '''\n",
    "    return x\n",
    "\n",
    "def binaryStep(x):\n",
    "    ''' It ret/urns '0' is the input is less then zero otherwise\n",
    "            it returns one '''\n",
    "    return np.heaviside(x,1)\n",
    "\n",
    "\n",
    "def sigmoid(x):\n",
    "    ''' It returns 1/(1+exp(-x)).\n",
    "        where the values lies between zero and one '''\n",
    "\n",
    "    return 1/(1+np.exp(-x))\n",
    "\n",
    "def tanh(x):\n",
    "    ''' It returns the value (1-exp(-2x))/(1+exp(-2x))\n",
    "        and the value returned will be lies in between -1 to 1.'''\n",
    "\n",
    "    return np.tanh(x)\n",
    "\n",
    "def arcTan(x):\n",
    "    ''' It returns the value tanInverse(x)\n",
    "        and the returned valus lies in between -1.570796327 to 1.570796327. '''\n",
    "\n",
    "    return np.arctan(x)\n",
    "\n",
    "def ReLU(x):\n",
    "    ''' It returns zero if the inputis less than zero\n",
    "        otherwise it returns the given input. '''\n",
    "    x1=[]\n",
    "    for i in x:\n",
    "        if i<0:\n",
    "            x1.append(0)\n",
    "        else:\n",
    "            x1.append(i)\n",
    "\n",
    "    return x1\n",
    "\n",
    "def leakyReLU(x):\n",
    "    ''' If 'x' is the given input, then returns zero if the inputis less than zero\n",
    "        otherwise it returns 0.01x . '''\n",
    "\n",
    "    x1=[]\n",
    "    for i in x:\n",
    "        if i<0:\n",
    "            x1.append(0.08*i)\n",
    "        else:\n",
    "            x1.append(i)\n",
    "    #print(x,x1)\n",
    "\n",
    "    return x1\n",
    "\n",
    "def eLU(x):\n",
    "    ''' If 'x' is the given input, then returns zero if the inputis less than zero\n",
    "        otherwise it returns 0.01x . '''\n",
    "\n",
    "    x1=[]\n",
    "    for i in x:\n",
    "        if i<0:\n",
    "            x1.append(1*(np.exp(i)-1))\n",
    "        else:\n",
    "            x1.append(i)\n",
    "    #print(x,x1)\n",
    "\n",
    "    return x1\n",
    "\n",
    "def softmax(x):\n",
    "    ''' Compute softmax values for each sets of scores in x. '''\n",
    "    return np.exp(x) / np.sum(np.exp(x), axis=0)\n",
    "\n",
    "\n"
   ]
  },
  {
   "cell_type": "code",
   "execution_count": null,
   "metadata": {},
   "outputs": [],
   "source": [
    "import numpy as np\n",
    "import matplotlib.pyplot as plt\n",
    "\n",
    "\n",
    "def plotActivationFunctions():\n",
    "    actfn=['sigmoid','ReLU']\n",
    "    dic={0:'plt.plot(x, sigmoid(x))',1:'plt.plot(x, ReLU(x))'}\n",
    "    for i in range(2):\n",
    "        x = np.linspace(-10, 10)\n",
    "        exec(dic[i])\n",
    "        plt.axis('tight')\n",
    "        plt.title('Activation Function :'+actfn[i]+' ')\n",
    "        \n",
    "        plt.grid()\n",
    "        plt.savefig(\"./Images/\"+str(i)+\".jpg\")\n",
    "        plt.show()\n",
    "\n",
    "\n",
    "\n",
    "plotActivationFunctions()\n"
   ]
  },
  {
   "cell_type": "code",
   "execution_count": null,
   "metadata": {},
   "outputs": [],
   "source": [
    "def ReLUdiff(x):\n",
    "    ''' It returns zero if the inputis less than zero\n",
    "        otherwise it returns 1. '''\n",
    "    x1=[]\n",
    "    for i in x:\n",
    "        if i<0:\n",
    "            x1.append(0)\n",
    "        else:\n",
    "            x1.append(1)\n",
    "\n",
    "    return x1\n",
    "\n",
    "def sigmoiddiff(x):\n",
    "    ''' It returns 1/(1+exp(-x)).\n",
    "        where the values lies between zero and one '''\n",
    "\n",
    "    return sigmoid(x)*(1-sigmoid(x))"
   ]
  },
  {
   "cell_type": "code",
   "execution_count": 7,
   "metadata": {},
   "outputs": [
    {
     "data": {
      "image/png": "[encoded data removed]",
      "text/plain": [
       "<Figure size 432x288 with 1 Axes>"
      ]
     },
     "metadata": {
      "needs_background": "light"
     },
     "output_type": "display_data"
    },
    {
     "data": {
      "image/png": "[encoded data removed]",
      "text/plain": [
       "<Figure size 432x288 with 1 Axes>"
      ]
     },
     "metadata": {
      "needs_background": "light"
     },
     "output_type": "display_data"
    }
   ],
   "source": [
    "import numpy as np\n",
    "import matplotlib.pyplot as plt\n",
    "\n",
    "\n",
    "def plotActivationdiffFunctions():\n",
    "    actfn=['sigmoiddiff','ReLUdiff']\n",
    "    dic={0:'plt.plot(x, sigmoiddiff(x))',1:'plt.plot(x, ReLUdiff(x))'}\n",
    "    for i in range(2):\n",
    "        x = np.linspace(-10, 10)\n",
    "        exec(dic[i])\n",
    "        plt.axis('tight')\n",
    "        plt.title('Activation Function :'+actfn[i]+' ')\n",
    "        \n",
    "        plt.grid()\n",
    "        plt.savefig(\"./Images/\"+str(i)+\"(b).jpg\")\n",
    "        plt.show()\n",
    "\n",
    "\n",
    "\n",
    "plotActivationdiffFunctions()\n"
   ]
  },
  {
   "cell_type": "code",
   "execution_count": null,
   "metadata": {},
   "outputs": [],
   "source": []
  }
 ],
 "metadata": {
  "kernelspec": {
   "display_name": "Python 3",
   "language": "python",
   "name": "python3"
  },
  "language_info": {
   "codemirror_mode": {
    "name": "ipython",
    "version": 3
   },
   "file_extension": ".py",
   "mimetype": "text/x-python",
   "name": "python",
   "nbconvert_exporter": "python",
   "pygments_lexer": "ipython3",
   "version": "3.6.6"
  }
 },
 "nbformat": 4,
 "nbformat_minor": 2
}
